{
 "cells": [
  {
   "cell_type": "markdown",
   "metadata": {},
   "source": [
    "# Classifying CT Scans with Pulmonary Embolisms"
   ]
  },
  {
   "cell_type": "markdown",
   "metadata": {},
   "source": [
    "## Background"
   ]
  },
  {
   "cell_type": "markdown",
   "metadata": {},
   "source": [
    "A pulmonary embolism (PE) is caused by an artery blockage in the lung. PEs are time consuming to confirm and consequently are prone to overdiagnosis. They are time consuming to confirm because they evey CT pulmonary angiography (CTPA) consists hundreds of images and every image has a chance of a PE being present."
   ]
  },
  {
   "cell_type": "markdown",
   "metadata": {},
   "source": [
    "Machine learning could be the solution. In this notebook we are going train a Convolutional Neural Network to accurately identify scans with PEs."
   ]
  },
  {
   "cell_type": "markdown",
   "metadata": {},
   "source": [
    "## Libraries and functions"
   ]
  },
  {
   "cell_type": "code",
   "execution_count": 228,
   "metadata": {
    "scrolled": true
   },
   "outputs": [],
   "source": [
    "#import necessary libraries and set the random seed for reproducibility\n",
    "import numpy as np\n",
    "import pandas as pd\n",
    "import seaborn as sns\n",
    "from keras import models\n",
    "from keras import layers\n",
    "import matplotlib.pyplot as plt\n",
    "import matplotlib.image as mpimg\n",
    "from matplotlib import animation, rc\n",
    "from sklearn.metrics import confusion_matrix, f1_score, accuracy_score, recall_score, precision_score\n",
    "np.random.seed(33)\n",
    "import tensorflow as tf\n",
    "import PIL\n",
    "import glob\n",
    "import os\n",
    "import re\n",
    "import pickle\n",
    "from PIL import Image\n",
    "from IPython.display import clear_output, display\n",
    "from keras.preprocessing.image import ImageDataGenerator, array_to_img, img_to_array, load_img\n",
    "from sklearn.model_selection import train_test_split\n",
    "from sklearn.dummy import DummyClassifier\n",
    "import warnings\n",
    "warnings.filterwarnings('ignore')\n",
    "%matplotlib inline"
   ]
  },
  {
   "cell_type": "code",
   "execution_count": 3,
   "metadata": {},
   "outputs": [],
   "source": [
    "#function to display testing scores of a cnn\n",
    "def nn_scores(actual, preds):\n",
    "    rounded_preds = np.around(preds)\n",
    "    acc = round(accuracy_score(actual, rounded_preds), 3)\n",
    "    recall = round(recall_score(actual, rounded_preds), 3)\n",
    "    precision = round(precision_score(actual, rounded_preds), 3)\n",
    "    f1 = round(f1_score(actual, rounded_preds), 3)\n",
    "    cm = confusion_matrix(actual, rounded_preds)\n",
    "    \n",
    "    #display testing scores\n",
    "    print('             Testing Scores')\n",
    "    print('           ' + '-'*19)\n",
    "    print(f'          | Accuracy  | {acc:.3f} |')\n",
    "    print(f'          | Recall    | {recall:.3f} |')\n",
    "    print(f'          | Precision | {precision:.3f} |')\n",
    "    print(f'          | F1        | {f1:.3f} |')\n",
    "    print('           ' + '-'*19)\n",
    "\n",
    "    #plot confusion matrix\n",
    "    ax = plt.subplot()\n",
    "    sns.heatmap(cm, fmt='.4g', annot=True, ax = ax, cmap ='Blues'); #annot=True to annotate cells\n",
    "\n",
    "    # labels, title and ticks\n",
    "    ax.set_xlabel('Predicted labels');ax.set_ylabel('True labels'); \n",
    "    ax.set_title('Confusion Matrix'); \n",
    "    ax.xaxis.set_ticklabels(['No PE', 'PE Present']); ax.yaxis.set_ticklabels(['No PE', 'PE Present']);\n",
    "    \n",
    "    return [acc, recall, precision, f1, cm]"
   ]
  },
  {
   "cell_type": "markdown",
   "metadata": {},
   "source": [
    "## Reading in the data"
   ]
  },
  {
   "cell_type": "code",
   "execution_count": 34,
   "metadata": {},
   "outputs": [],
   "source": [
    "df = pd.read_csv('train.csv')"
   ]
  },
  {
   "cell_type": "markdown",
   "metadata": {},
   "source": [
    "This dataframe contains all of the image ids and different information about about each image. For example, if a pulmonary embolism is present in the image."
   ]
  },
  {
   "cell_type": "code",
   "execution_count": 21,
   "metadata": {
    "scrolled": true
   },
   "outputs": [
    {
     "data": {
      "text/plain": [
       "(1790594, 17)"
      ]
     },
     "execution_count": 21,
     "metadata": {},
     "output_type": "execute_result"
    }
   ],
   "source": [
    "df.shape"
   ]
  },
  {
   "cell_type": "markdown",
   "metadata": {},
   "source": [
    "There are almost 1.8 million images with 17 different features"
   ]
  },
  {
   "cell_type": "code",
   "execution_count": 3,
   "metadata": {
    "scrolled": false
   },
   "outputs": [
    {
     "data": {
      "text/html": [
       "<div>\n",
       "<style scoped>\n",
       "    .dataframe tbody tr th:only-of-type {\n",
       "        vertical-align: middle;\n",
       "    }\n",
       "\n",
       "    .dataframe tbody tr th {\n",
       "        vertical-align: top;\n",
       "    }\n",
       "\n",
       "    .dataframe thead th {\n",
       "        text-align: right;\n",
       "    }\n",
       "</style>\n",
       "<table border=\"1\" class=\"dataframe\">\n",
       "  <thead>\n",
       "    <tr style=\"text-align: right;\">\n",
       "      <th></th>\n",
       "      <th>StudyInstanceUID</th>\n",
       "      <th>SeriesInstanceUID</th>\n",
       "      <th>SOPInstanceUID</th>\n",
       "      <th>pe_present_on_image</th>\n",
       "      <th>negative_exam_for_pe</th>\n",
       "      <th>qa_motion</th>\n",
       "      <th>qa_contrast</th>\n",
       "      <th>flow_artifact</th>\n",
       "      <th>rv_lv_ratio_gte_1</th>\n",
       "      <th>rv_lv_ratio_lt_1</th>\n",
       "      <th>leftsided_pe</th>\n",
       "      <th>chronic_pe</th>\n",
       "      <th>true_filling_defect_not_pe</th>\n",
       "      <th>rightsided_pe</th>\n",
       "      <th>acute_and_chronic_pe</th>\n",
       "      <th>central_pe</th>\n",
       "      <th>indeterminate</th>\n",
       "    </tr>\n",
       "  </thead>\n",
       "  <tbody>\n",
       "    <tr>\n",
       "      <th>0</th>\n",
       "      <td>6897fa9de148</td>\n",
       "      <td>2bfbb7fd2e8b</td>\n",
       "      <td>c0f3cb036d06</td>\n",
       "      <td>0</td>\n",
       "      <td>0</td>\n",
       "      <td>0</td>\n",
       "      <td>0</td>\n",
       "      <td>0</td>\n",
       "      <td>0</td>\n",
       "      <td>1</td>\n",
       "      <td>1</td>\n",
       "      <td>0</td>\n",
       "      <td>0</td>\n",
       "      <td>1</td>\n",
       "      <td>0</td>\n",
       "      <td>0</td>\n",
       "      <td>0</td>\n",
       "    </tr>\n",
       "    <tr>\n",
       "      <th>1</th>\n",
       "      <td>6897fa9de148</td>\n",
       "      <td>2bfbb7fd2e8b</td>\n",
       "      <td>f57ffd3883b6</td>\n",
       "      <td>0</td>\n",
       "      <td>0</td>\n",
       "      <td>0</td>\n",
       "      <td>0</td>\n",
       "      <td>0</td>\n",
       "      <td>0</td>\n",
       "      <td>1</td>\n",
       "      <td>1</td>\n",
       "      <td>0</td>\n",
       "      <td>0</td>\n",
       "      <td>1</td>\n",
       "      <td>0</td>\n",
       "      <td>0</td>\n",
       "      <td>0</td>\n",
       "    </tr>\n",
       "    <tr>\n",
       "      <th>2</th>\n",
       "      <td>6897fa9de148</td>\n",
       "      <td>2bfbb7fd2e8b</td>\n",
       "      <td>41220fda34a3</td>\n",
       "      <td>0</td>\n",
       "      <td>0</td>\n",
       "      <td>0</td>\n",
       "      <td>0</td>\n",
       "      <td>0</td>\n",
       "      <td>0</td>\n",
       "      <td>1</td>\n",
       "      <td>1</td>\n",
       "      <td>0</td>\n",
       "      <td>0</td>\n",
       "      <td>1</td>\n",
       "      <td>0</td>\n",
       "      <td>0</td>\n",
       "      <td>0</td>\n",
       "    </tr>\n",
       "    <tr>\n",
       "      <th>3</th>\n",
       "      <td>6897fa9de148</td>\n",
       "      <td>2bfbb7fd2e8b</td>\n",
       "      <td>13b685b4b14f</td>\n",
       "      <td>0</td>\n",
       "      <td>0</td>\n",
       "      <td>0</td>\n",
       "      <td>0</td>\n",
       "      <td>0</td>\n",
       "      <td>0</td>\n",
       "      <td>1</td>\n",
       "      <td>1</td>\n",
       "      <td>0</td>\n",
       "      <td>0</td>\n",
       "      <td>1</td>\n",
       "      <td>0</td>\n",
       "      <td>0</td>\n",
       "      <td>0</td>\n",
       "    </tr>\n",
       "    <tr>\n",
       "      <th>4</th>\n",
       "      <td>6897fa9de148</td>\n",
       "      <td>2bfbb7fd2e8b</td>\n",
       "      <td>be0b7524ffb4</td>\n",
       "      <td>0</td>\n",
       "      <td>0</td>\n",
       "      <td>0</td>\n",
       "      <td>0</td>\n",
       "      <td>0</td>\n",
       "      <td>0</td>\n",
       "      <td>1</td>\n",
       "      <td>1</td>\n",
       "      <td>0</td>\n",
       "      <td>0</td>\n",
       "      <td>1</td>\n",
       "      <td>0</td>\n",
       "      <td>0</td>\n",
       "      <td>0</td>\n",
       "    </tr>\n",
       "  </tbody>\n",
       "</table>\n",
       "</div>"
      ],
      "text/plain": [
       "  StudyInstanceUID SeriesInstanceUID SOPInstanceUID  pe_present_on_image  \\\n",
       "0     6897fa9de148      2bfbb7fd2e8b   c0f3cb036d06                    0   \n",
       "1     6897fa9de148      2bfbb7fd2e8b   f57ffd3883b6                    0   \n",
       "2     6897fa9de148      2bfbb7fd2e8b   41220fda34a3                    0   \n",
       "3     6897fa9de148      2bfbb7fd2e8b   13b685b4b14f                    0   \n",
       "4     6897fa9de148      2bfbb7fd2e8b   be0b7524ffb4                    0   \n",
       "\n",
       "   negative_exam_for_pe  qa_motion  qa_contrast  flow_artifact  \\\n",
       "0                     0          0            0              0   \n",
       "1                     0          0            0              0   \n",
       "2                     0          0            0              0   \n",
       "3                     0          0            0              0   \n",
       "4                     0          0            0              0   \n",
       "\n",
       "   rv_lv_ratio_gte_1  rv_lv_ratio_lt_1  leftsided_pe  chronic_pe  \\\n",
       "0                  0                 1             1           0   \n",
       "1                  0                 1             1           0   \n",
       "2                  0                 1             1           0   \n",
       "3                  0                 1             1           0   \n",
       "4                  0                 1             1           0   \n",
       "\n",
       "   true_filling_defect_not_pe  rightsided_pe  acute_and_chronic_pe  \\\n",
       "0                           0              1                     0   \n",
       "1                           0              1                     0   \n",
       "2                           0              1                     0   \n",
       "3                           0              1                     0   \n",
       "4                           0              1                     0   \n",
       "\n",
       "   central_pe  indeterminate  \n",
       "0           0              0  \n",
       "1           0              0  \n",
       "2           0              0  \n",
       "3           0              0  \n",
       "4           0              0  "
      ]
     },
     "execution_count": 3,
     "metadata": {},
     "output_type": "execute_result"
    }
   ],
   "source": [
    "df.head()"
   ]
  },
  {
   "cell_type": "markdown",
   "metadata": {},
   "source": [
    "3 of the features are related to identifying the picture."
   ]
  },
  {
   "cell_type": "code",
   "execution_count": 26,
   "metadata": {
    "scrolled": false
   },
   "outputs": [
    {
     "data": {
      "text/plain": [
       "0    94.608493\n",
       "1     5.391507\n",
       "Name: pe_present_on_image, dtype: float64"
      ]
     },
     "execution_count": 26,
     "metadata": {},
     "output_type": "execute_result"
    }
   ],
   "source": [
    "df['pe_present_on_image'].value_counts(normalize = True) * 100"
   ]
  },
  {
   "cell_type": "markdown",
   "metadata": {},
   "source": [
    "There is a high class imbalance. ~95% of images do not have a pulmonary embolism present."
   ]
  },
  {
   "cell_type": "markdown",
   "metadata": {},
   "source": [
    "### Organize Images"
   ]
  },
  {
   "cell_type": "markdown",
   "metadata": {},
   "source": [
    "The files for the downloaded images are nested in layers of folders, so to make it easier to handle the images we moved the images into new folders. We used two folders one for images that have PE presents and a folder for those that don't. Additionally, for the sake of modeling time the images were downsampled to include 36k images from each class. The code for this isn't listed here due to brevity. (Go to very bottom for code)\n",
    "\n",
    "---"
   ]
  },
  {
   "cell_type": "code",
   "execution_count": 100,
   "metadata": {},
   "outputs": [
    {
     "name": "stdout",
     "output_type": "stream",
     "text": [
      "Total number of scans:  7279\n"
     ]
    }
   ],
   "source": [
    "scans = glob.glob('train-jpegs/*/*')\n",
    "print('Total number of scans: ', len(scans))"
   ]
  },
  {
   "cell_type": "code",
   "execution_count": 231,
   "metadata": {},
   "outputs": [],
   "source": [
    "def animate(scan):\n",
    "    fragments = glob.glob(scan + '/*')\n",
    "    ims = []\n",
    "    for f in fragments:\n",
    "        print(f)\n",
    "        break\n",
    "        im = PIL.Image.open(f)\n",
    "        im_data = im.getdata()\n",
    "        ims.append(im_data)\n",
    "    fig = plt.figure(figsize=(6, 6))\n",
    "    plt.axis('off')\n",
    "    imgplot = plt.imshow(ims[0], animated = True)\n",
    "\n",
    "    def animate_func(i):\n",
    "        imgplot.set_array(ims[i])\n",
    "        return [imgplot]\n",
    "\n",
    "    return animation.FuncAnimation(fig, animate_func, frames = len(ims), interval = 1000//24)"
   ]
  },
  {
   "cell_type": "markdown",
   "metadata": {},
   "source": [
    "## Baseline Model"
   ]
  },
  {
   "cell_type": "markdown",
   "metadata": {},
   "source": [
    "This model is a dummy classifier that only predict the majority class."
   ]
  },
  {
   "cell_type": "code",
   "execution_count": 55,
   "metadata": {},
   "outputs": [],
   "source": [
    "y = df['pe_present_on_image'] #target\n",
    "x = np.zeros(len(y)) #dummy data"
   ]
  },
  {
   "cell_type": "code",
   "execution_count": 56,
   "metadata": {},
   "outputs": [
    {
     "data": {
      "text/plain": [
       "DummyClassifier(strategy='most_frequent')"
      ]
     },
     "execution_count": 56,
     "metadata": {},
     "output_type": "execute_result"
    }
   ],
   "source": [
    "dummy_clf = DummyClassifier(strategy=\"most_frequent\")\n",
    "dummy_clf.fit(x, y)"
   ]
  },
  {
   "cell_type": "code",
   "execution_count": 57,
   "metadata": {},
   "outputs": [],
   "source": [
    "dummy_preds = dummy_clf.predict(x)"
   ]
  },
  {
   "cell_type": "code",
   "execution_count": 59,
   "metadata": {
    "scrolled": false
   },
   "outputs": [
    {
     "name": "stdout",
     "output_type": "stream",
     "text": [
      "             Testing Scores\n",
      "           -------------------\n",
      "          | Accuracy  | 0.946 |\n",
      "          | Recall    | 0.000 |\n",
      "          | Precision | 0.000 |\n",
      "          | F1        | 0.000 |\n",
      "           -------------------\n"
     ]
    },
    {
     "data": {
      "image/png": "[encoded data removed]",
      "text/plain": [
       "<Figure size 432x288 with 2 Axes>"
      ]
     },
     "metadata": {
      "needs_background": "light"
     },
     "output_type": "display_data"
    }
   ],
   "source": [
    "dummy_scores = nn_scores(y, dummy_preds)"
   ]
  },
  {
   "cell_type": "markdown",
   "metadata": {},
   "source": [
    "As you can see from the scores and confusion matrix above. The accuracy is really high when only predicting on the majority class. Therefore, we sampled the from each class evenly to address the issue of class imbalance."
   ]
  },
  {
   "cell_type": "markdown",
   "metadata": {},
   "source": [
    "## Generic Model"
   ]
  },
  {
   "cell_type": "markdown",
   "metadata": {},
   "source": [
    "First lets consolidate our images and the classes they belong to. Also, we will start off with a image batch size of 1000 to reduce the learning rate while we explore what parameters are important."
   ]
  },
  {
   "cell_type": "code",
   "execution_count": 241,
   "metadata": {},
   "outputs": [
    {
     "name": "stdout",
     "output_type": "stream",
     "text": [
      "Found 72527 images belonging to 2 classes.\n"
     ]
    }
   ],
   "source": [
    "root = \"data/\"\n",
    "data_all = ImageDataGenerator(rescale=1./255).flow_from_directory( \n",
    "        root, \n",
    "        target_size=(256, 256), \n",
    "        batch_size = 1000, \n",
    "        seed = 33)"
   ]
  },
  {
   "cell_type": "markdown",
   "metadata": {},
   "source": [
    "As you can see there are two classes, ct scans where PE is present and scans where PE isn't present\n",
    "\n",
    "---"
   ]
  },
  {
   "cell_type": "markdown",
   "metadata": {},
   "source": [
    "Split our data into its images and classes."
   ]
  },
  {
   "cell_type": "code",
   "execution_count": 242,
   "metadata": {},
   "outputs": [],
   "source": [
    "images, labels = next(data_all)"
   ]
  },
  {
   "cell_type": "markdown",
   "metadata": {},
   "source": [
    "Vizualize the first few images"
   ]
  },
  {
   "cell_type": "code",
   "execution_count": 47,
   "metadata": {
    "scrolled": true
   },
   "outputs": [
    {
     "data": {
      "image/png": "[encoded data removed]",
      "text/plain": [
       "<Figure size 432x288 with 9 Axes>"
      ]
     },
     "metadata": {
      "needs_background": "light"
     },
     "output_type": "display_data"
    }
   ],
   "source": [
    "#visualize images\n",
    "%matplotlib inline\n",
    "import matplotlib.pyplot as plt\n",
    "\n",
    "for i in range(9):\n",
    "  plt.subplot(330 + 1 + i)\n",
    "  plt.imshow(images[i])\n",
    "plt.show()"
   ]
  },
  {
   "cell_type": "markdown",
   "metadata": {},
   "source": [
    "Each image is a different ct scan. How you interpret the image is that you are looking at a person from the bottom of their feet. The top of the image is by their chin and the bottom is by their back. Black is air and contrast is used to vizualize blood flow.\n",
    "\n",
    "---"
   ]
  },
  {
   "cell_type": "markdown",
   "metadata": {},
   "source": [
    "Reshape labels, in order to perfrom train test split"
   ]
  },
  {
   "cell_type": "code",
   "execution_count": 243,
   "metadata": {},
   "outputs": [],
   "source": [
    "labels = np.reshape(labels[:,0], (1000,1))"
   ]
  },
  {
   "cell_type": "markdown",
   "metadata": {},
   "source": [
    "Split data into train and validation set"
   ]
  },
  {
   "cell_type": "code",
   "execution_count": 244,
   "metadata": {},
   "outputs": [],
   "source": [
    "X_train, X_val, y_train, y_val = train_test_split(images, labels, test_size=0.20, random_state=33)"
   ]
  },
  {
   "cell_type": "markdown",
   "metadata": {},
   "source": [
    "Testing set"
   ]
  },
  {
   "cell_type": "code",
   "execution_count": 245,
   "metadata": {},
   "outputs": [],
   "source": [
    "X_test, y_test = next(data_all)\n",
    "y_test = np.reshape(y_test[:,0], (1000,1))"
   ]
  },
  {
   "cell_type": "markdown",
   "metadata": {},
   "source": [
    "Model"
   ]
  },
  {
   "cell_type": "code",
   "execution_count": 100,
   "metadata": {},
   "outputs": [],
   "source": [
    "cnn = models.Sequential()\n",
    "cnn.add(layers.Conv2D(256, (3, 3), activation='relu', input_shape=(256, 256,  3)))\n",
    "cnn.add(layers.MaxPooling2D((2, 2)))\n",
    "cnn.add(layers.Conv2D(256, (3, 3), activation='relu'))\n",
    "cnn.add(layers.MaxPooling2D((2, 2)))\n",
    "cnn.add(layers.Flatten())\n",
    "cnn.add(layers.Dense(128, activation='relu'))\n",
    "cnn.add(layers.Dense(1, activation='sigmoid'))\n",
    "\n",
    "cnn.compile(loss='binary_crossentropy',\n",
    "              optimizer=\"sgd\",\n",
    "              metrics=[tf.keras.metrics.Recall()])"
   ]
  },
  {
   "cell_type": "code",
   "execution_count": 101,
   "metadata": {
    "scrolled": false
   },
   "outputs": [
    {
     "name": "stdout",
     "output_type": "stream",
     "text": [
      "Epoch 1/5\n",
      "16/16 [==============================] - 185s 12s/step - loss: 0.6473 - recall_9: 0.7512 - val_loss: 0.6285 - val_recall_9: 0.3137\n",
      "Epoch 2/5\n",
      "16/16 [==============================] - 184s 11s/step - loss: 0.5448 - recall_9: 0.7122 - val_loss: 0.6250 - val_recall_9: 0.3824\n",
      "Epoch 3/5\n",
      "16/16 [==============================] - 181s 11s/step - loss: 0.4947 - recall_9: 0.7244 - val_loss: 0.5236 - val_recall_9: 0.6569\n",
      "Epoch 4/5\n",
      "16/16 [==============================] - 181s 11s/step - loss: 0.4372 - recall_9: 0.7780 - val_loss: 0.5028 - val_recall_9: 0.6765\n",
      "Epoch 5/5\n",
      "16/16 [==============================] - 179s 11s/step - loss: 0.4225 - recall_9: 0.7683 - val_loss: 0.5428 - val_recall_9: 0.6078\n"
     ]
    },
    {
     "data": {
      "text/plain": [
       "<tensorflow.python.keras.callbacks.History at 0x7fe71e6f28e0>"
      ]
     },
     "execution_count": 101,
     "metadata": {},
     "output_type": "execute_result"
    }
   ],
   "source": [
    "cnn.fit(X_train,\n",
    "        y_train,\n",
    "        epochs=5,\n",
    "        batch_size=50,\n",
    "        validation_data=(X_val, y_val),\n",
    "        verbose = 1,\n",
    "        workers = 7)"
   ]
  },
  {
   "cell_type": "code",
   "execution_count": 104,
   "metadata": {
    "scrolled": true
   },
   "outputs": [
    {
     "name": "stdout",
     "output_type": "stream",
     "text": [
      "32/32 [==============================] - 62s 2s/step - loss: 0.4820 - recall_9: 0.6245\n"
     ]
    },
    {
     "data": {
      "text/plain": [
       "[0.4820467531681061, 0.6244897842407227]"
      ]
     },
     "execution_count": 104,
     "metadata": {},
     "output_type": "execute_result"
    }
   ],
   "source": [
    "cnn.evaluate(X_test, y_test)"
   ]
  },
  {
   "cell_type": "code",
   "execution_count": 105,
   "metadata": {},
   "outputs": [],
   "source": [
    "#predictions\n",
    "cnn_preds = cnn.predict(X_test)"
   ]
  },
  {
   "cell_type": "code",
   "execution_count": 169,
   "metadata": {
    "scrolled": false
   },
   "outputs": [
    {
     "name": "stdout",
     "output_type": "stream",
     "text": [
      "             Testing Scores\n",
      "           -------------------\n",
      "          | Accuracy  | 0.797 |\n",
      "          | Recall    | 0.624 |\n",
      "          | Precision | 0.942 |\n",
      "          | F1        | 0.751 |\n",
      "           -------------------\n"
     ]
    },
    {
     "data": {
      "image/png": "[encoded data removed]",
      "text/plain": [
       "<Figure size 432x288 with 2 Axes>"
      ]
     },
     "metadata": {
      "needs_background": "light"
     },
     "output_type": "display_data"
    }
   ],
   "source": [
    "#testing score\n",
    "cnn_scores = nn_scores(y_test, cnn_preds)"
   ]
  },
  {
   "cell_type": "markdown",
   "metadata": {},
   "source": [
    "The first model performed better than random guessing in everything but accuracy. It is fair model, however, for a medical application we need to decrease the false negatives. A recall of 62% isn't great. Consequently, we need to experiment with different parameters and find a better model for our application. All in all though this was a decent start."
   ]
  },
  {
   "cell_type": "code",
   "execution_count": 199,
   "metadata": {},
   "outputs": [
    {
     "name": "stdout",
     "output_type": "stream",
     "text": [
      "INFO:tensorflow:Assets written to: cnn_vanilla/assets\n"
     ]
    }
   ],
   "source": [
    "# save model\n",
    "cnn.save('cnn_vanilla')\n",
    "cnn.save_weights('cnn_vanilla_weights')"
   ]
  },
  {
   "cell_type": "markdown",
   "metadata": {},
   "source": [
    "## Adam Optimizer"
   ]
  },
  {
   "cell_type": "markdown",
   "metadata": {},
   "source": [
    "For this model we are keeping everything the same but changing the optimizer to Adam, which is the arguably the industry standard right now."
   ]
  },
  {
   "cell_type": "code",
   "execution_count": 80,
   "metadata": {},
   "outputs": [],
   "source": [
    "cnn2 = models.Sequential()\n",
    "cnn2.add(layers.Conv2D(256, (3, 3), activation='relu', input_shape=(256, 256,  3)))\n",
    "cnn2.add(layers.MaxPooling2D((2, 2)))\n",
    "cnn2.add(layers.Conv2D(256, (3, 3), activation='relu'))\n",
    "cnn2.add(layers.MaxPooling2D((2, 2)))\n",
    "cnn2.add(layers.Flatten())\n",
    "cnn2.add(layers.Dense(128, activation='relu'))\n",
    "cnn2.add(layers.Dense(1, activation='sigmoid'))\n",
    "\n",
    "cnn2.compile(loss='binary_crossentropy',\n",
    "              optimizer=\"adam\",\n",
    "              metrics=[tf.keras.metrics.Recall()])"
   ]
  },
  {
   "cell_type": "code",
   "execution_count": 81,
   "metadata": {
    "scrolled": true
   },
   "outputs": [
    {
     "name": "stdout",
     "output_type": "stream",
     "text": [
      "Epoch 1/5\n",
      "16/16 [==============================] - 177s 11s/step - loss: 3.2357 - recall_8: 0.6512 - val_loss: 0.5646 - val_recall_8: 0.6471\n",
      "Epoch 2/5\n",
      "16/16 [==============================] - 173s 11s/step - loss: 0.4201 - recall_8: 0.7780 - val_loss: 0.4730 - val_recall_8: 0.6667\n",
      "Epoch 3/5\n",
      "16/16 [==============================] - 172s 11s/step - loss: 0.3126 - recall_8: 0.8561 - val_loss: 0.4392 - val_recall_8: 0.8824\n",
      "Epoch 4/5\n",
      "16/16 [==============================] - 172s 11s/step - loss: 0.2427 - recall_8: 0.9000 - val_loss: 0.4510 - val_recall_8: 0.7255\n",
      "Epoch 5/5\n",
      "16/16 [==============================] - 172s 11s/step - loss: 0.1707 - recall_8: 0.9195 - val_loss: 0.5225 - val_recall_8: 0.7843\n"
     ]
    },
    {
     "data": {
      "text/plain": [
       "<tensorflow.python.keras.callbacks.History at 0x7fe6ed5de700>"
      ]
     },
     "execution_count": 81,
     "metadata": {},
     "output_type": "execute_result"
    }
   ],
   "source": [
    "cnn2.fit(X_train,\n",
    "        y_train,\n",
    "        epochs=5,\n",
    "        batch_size=50,\n",
    "        validation_data=(X_val, y_val),\n",
    "        verbose = 1,\n",
    "        workers = 7)"
   ]
  },
  {
   "cell_type": "code",
   "execution_count": 82,
   "metadata": {},
   "outputs": [
    {
     "name": "stdout",
     "output_type": "stream",
     "text": [
      "32/32 [==============================] - 63s 2s/step - loss: 0.3980 - recall_8: 0.7755\n"
     ]
    },
    {
     "data": {
      "text/plain": [
       "[0.398004949092865, 0.7755101919174194]"
      ]
     },
     "execution_count": 82,
     "metadata": {},
     "output_type": "execute_result"
    }
   ],
   "source": [
    "cnn2.evaluate(X_test, y_test)"
   ]
  },
  {
   "cell_type": "code",
   "execution_count": 83,
   "metadata": {},
   "outputs": [],
   "source": [
    "#predictions\n",
    "cnn2_preds = cnn2.predict(X_test)"
   ]
  },
  {
   "cell_type": "code",
   "execution_count": 170,
   "metadata": {
    "scrolled": false
   },
   "outputs": [
    {
     "name": "stdout",
     "output_type": "stream",
     "text": [
      "             Testing Scores\n",
      "           -------------------\n",
      "          | Accuracy  | 0.848 |\n",
      "          | Recall    | 0.776 |\n",
      "          | Precision | 0.900 |\n",
      "          | F1        | 0.833 |\n",
      "           -------------------\n"
     ]
    },
    {
     "data": {
      "image/png": "[encoded data removed]",
      "text/plain": [
       "<Figure size 432x288 with 2 Axes>"
      ]
     },
     "metadata": {
      "needs_background": "light"
     },
     "output_type": "display_data"
    }
   ],
   "source": [
    "#testing scores\n",
    "cnn2_scores = nn_scores(y_test, cnn2_preds)"
   ]
  },
  {
   "cell_type": "markdown",
   "metadata": {},
   "source": [
    "This performed better than our generic model. The recall jumped to 78% percent from 62%. This is a significant improvment and we a trending in the right direction. Also, all of our other testing scores increased as well."
   ]
  },
  {
   "cell_type": "code",
   "execution_count": 203,
   "metadata": {},
   "outputs": [
    {
     "name": "stdout",
     "output_type": "stream",
     "text": [
      "INFO:tensorflow:Assets written to: cnn2/assets\n"
     ]
    }
   ],
   "source": [
    "# save model\n",
    "cnn2.save('cnn2')\n",
    "cnn2.save_weights('cnn2_weights')"
   ]
  },
  {
   "cell_type": "markdown",
   "metadata": {},
   "source": [
    "## 3 conv layers and striding of 2"
   ]
  },
  {
   "cell_type": "markdown",
   "metadata": {},
   "source": [
    "For this model we are going to increase the convolutional layers and reduce memory requirements between the layers\n",
    "by using a stride of 2 in both directions for max pooling after each convolutional layer."
   ]
  },
  {
   "cell_type": "code",
   "execution_count": 171,
   "metadata": {},
   "outputs": [],
   "source": [
    "cnn3 = models.Sequential()\n",
    "cnn3.add(layers.Conv2D(256, (3, 3), activation='relu', input_shape=(256, 256,  3)))\n",
    "cnn3.add(layers.MaxPooling2D(pool_size = (2, 2), strides = (2,2)))\n",
    "cnn3.add(layers.Conv2D(512, (3, 3), activation='relu'))\n",
    "cnn3.add(layers.MaxPooling2D(pool_size = (2, 2), strides = (2,2)))\n",
    "cnn3.add(layers.Conv2D(1024, (3, 3), activation='relu'))\n",
    "cnn3.add(layers.MaxPooling2D(pool_size = (2, 2), strides = (2,2)))\n",
    "cnn3.add(layers.Flatten())\n",
    "cnn3.add(layers.Dense(128, activation='relu'))\n",
    "cnn3.add(layers.Dense(1, activation='sigmoid'))\n",
    "\n",
    "cnn3.compile(loss='binary_crossentropy',\n",
    "              optimizer=\"adam\",\n",
    "              metrics=[tf.keras.metrics.Recall()])"
   ]
  },
  {
   "cell_type": "code",
   "execution_count": 172,
   "metadata": {
    "scrolled": true
   },
   "outputs": [
    {
     "name": "stdout",
     "output_type": "stream",
     "text": [
      "Epoch 1/5\n",
      "16/16 [==============================] - 516s 32s/step - loss: 4.1569 - recall_10: 0.7683 - val_loss: 0.6733 - val_recall_10: 1.0000\n",
      "Epoch 2/5\n",
      "16/16 [==============================] - 500s 31s/step - loss: 0.5980 - recall_10: 0.7634 - val_loss: 0.5885 - val_recall_10: 0.6275\n",
      "Epoch 3/5\n",
      "16/16 [==============================] - 500s 31s/step - loss: 0.4708 - recall_10: 0.7488 - val_loss: 0.5747 - val_recall_10: 0.7843\n",
      "Epoch 4/5\n",
      "16/16 [==============================] - 513s 32s/step - loss: 0.4135 - recall_10: 0.8098 - val_loss: 0.5266 - val_recall_10: 0.6863\n",
      "Epoch 5/5\n",
      "16/16 [==============================] - 512s 32s/step - loss: 0.3645 - recall_10: 0.8073 - val_loss: 0.4568 - val_recall_10: 0.7941\n"
     ]
    },
    {
     "data": {
      "text/plain": [
       "<tensorflow.python.keras.callbacks.History at 0x7fe71d7387c0>"
      ]
     },
     "execution_count": 172,
     "metadata": {},
     "output_type": "execute_result"
    }
   ],
   "source": [
    "cnn3.fit(X_train,\n",
    "        y_train,\n",
    "        epochs=5,\n",
    "        batch_size=50,\n",
    "        validation_data=(X_val, y_val),\n",
    "        verbose = 1,\n",
    "        workers = 7)"
   ]
  },
  {
   "cell_type": "code",
   "execution_count": 173,
   "metadata": {},
   "outputs": [
    {
     "name": "stdout",
     "output_type": "stream",
     "text": [
      "32/32 [==============================] - 198s 6s/step - loss: 0.3772 - recall_10: 0.8020\n"
     ]
    },
    {
     "data": {
      "text/plain": [
       "[0.37723737955093384, 0.8020408153533936]"
      ]
     },
     "execution_count": 173,
     "metadata": {},
     "output_type": "execute_result"
    }
   ],
   "source": [
    "cnn3.evaluate(X_test, y_test)"
   ]
  },
  {
   "cell_type": "code",
   "execution_count": 174,
   "metadata": {},
   "outputs": [],
   "source": [
    "#predictions\n",
    "cnn3_preds = cnn3.predict(X_test)"
   ]
  },
  {
   "cell_type": "code",
   "execution_count": 193,
   "metadata": {
    "scrolled": false
   },
   "outputs": [
    {
     "name": "stdout",
     "output_type": "stream",
     "text": [
      "             Testing Scores\n",
      "           -------------------\n",
      "          | Accuracy  | 0.842 |\n",
      "          | Recall    | 0.802 |\n",
      "          | Precision | 0.866 |\n",
      "          | F1        | 0.833 |\n",
      "           -------------------\n"
     ]
    },
    {
     "data": {
      "image/png": "[encoded data removed]",
      "text/plain": [
       "<Figure size 432x288 with 2 Axes>"
      ]
     },
     "metadata": {
      "needs_background": "light"
     },
     "output_type": "display_data"
    }
   ],
   "source": [
    "#testing scores\n",
    "cnn3_scores = nn_scores(y_test, cnn3_preds)"
   ]
  },
  {
   "cell_type": "markdown",
   "metadata": {},
   "source": [
    "By adding another layer and using a stride length of two, recall was improved. However, the improvement was only marginal. Accuracy and F1 stayed approximately the same. Precision decrease as the expense of an increase in recall which is normal. In conclusion, this model didn't add much for an increase in complexity. Let's try keeping the stride length the same and going back to 2 convolutional layers."
   ]
  },
  {
   "cell_type": "code",
   "execution_count": 204,
   "metadata": {},
   "outputs": [
    {
     "name": "stdout",
     "output_type": "stream",
     "text": [
      "INFO:tensorflow:Assets written to: cnn3/assets\n"
     ]
    }
   ],
   "source": [
    "# save model\n",
    "cnn3.save('cnn3')\n",
    "cnn3.save_weights('cnn3_weights')"
   ]
  },
  {
   "cell_type": "markdown",
   "metadata": {},
   "source": [
    "## 2 conv layers and stride of 2"
   ]
  },
  {
   "cell_type": "markdown",
   "metadata": {},
   "source": [
    "This model decreases the convolutional layers by one and keeps eveything else the same from the last model"
   ]
  },
  {
   "cell_type": "code",
   "execution_count": 176,
   "metadata": {},
   "outputs": [],
   "source": [
    "cnn4 = models.Sequential()\n",
    "cnn4.add(layers.Conv2D(512, (3, 3), activation='relu', input_shape=(256, 256,  3)))\n",
    "cnn4.add(layers.MaxPooling2D(pool_size = (2, 2), strides = (2,2)))\n",
    "cnn4.add(layers.Conv2D(512, (3, 3), activation='relu'))\n",
    "cnn4.add(layers.MaxPooling2D(pool_size = (2, 2), strides = (2,2)))\n",
    "cnn4.add(layers.Flatten())\n",
    "cnn4.add(layers.Dense(128, activation='relu'))\n",
    "cnn4.add(layers.Dense(1, activation='sigmoid'))\n",
    "\n",
    "cnn4.compile(loss='binary_crossentropy',\n",
    "              optimizer=\"adam\",\n",
    "              metrics=[tf.keras.metrics.Recall()])"
   ]
  },
  {
   "cell_type": "code",
   "execution_count": 177,
   "metadata": {
    "scrolled": true
   },
   "outputs": [
    {
     "name": "stdout",
     "output_type": "stream",
     "text": [
      "Epoch 1/5\n",
      "16/16 [==============================] - 624s 39s/step - loss: 8.7738 - recall_11: 0.5683 - val_loss: 0.5138 - val_recall_11: 0.7255\n",
      "Epoch 2/5\n",
      "16/16 [==============================] - 605s 38s/step - loss: 0.4788 - recall_11: 0.8244 - val_loss: 0.4882 - val_recall_11: 0.5980\n",
      "Epoch 3/5\n",
      "16/16 [==============================] - 609s 38s/step - loss: 0.3352 - recall_11: 0.8561 - val_loss: 0.4588 - val_recall_11: 0.8431\n",
      "Epoch 4/5\n",
      "16/16 [==============================] - 605s 38s/step - loss: 0.2198 - recall_11: 0.9195 - val_loss: 0.4345 - val_recall_11: 0.8431\n",
      "Epoch 5/5\n",
      "16/16 [==============================] - 609s 38s/step - loss: 0.1067 - recall_11: 0.9561 - val_loss: 0.4915 - val_recall_11: 0.8431\n"
     ]
    },
    {
     "data": {
      "text/plain": [
       "<tensorflow.python.keras.callbacks.History at 0x7fe6c047f580>"
      ]
     },
     "execution_count": 177,
     "metadata": {},
     "output_type": "execute_result"
    }
   ],
   "source": [
    "cnn4.fit(X_train,\n",
    "        y_train,\n",
    "        epochs=5,\n",
    "        batch_size=50,\n",
    "        validation_data=(X_val, y_val),\n",
    "        verbose = 1,\n",
    "        workers = 7)"
   ]
  },
  {
   "cell_type": "code",
   "execution_count": 179,
   "metadata": {},
   "outputs": [
    {
     "name": "stdout",
     "output_type": "stream",
     "text": [
      "32/32 [==============================] - 229s 7s/step - loss: 0.3464 - recall_11: 0.8306\n"
     ]
    },
    {
     "data": {
      "text/plain": [
       "[0.3463621735572815, 0.8306122422218323]"
      ]
     },
     "execution_count": 179,
     "metadata": {},
     "output_type": "execute_result"
    }
   ],
   "source": [
    "cnn4.evaluate(X_test, y_test)"
   ]
  },
  {
   "cell_type": "code",
   "execution_count": 180,
   "metadata": {},
   "outputs": [],
   "source": [
    "#predicitions\n",
    "cnn4_preds = cnn4.predict(X_test)"
   ]
  },
  {
   "cell_type": "code",
   "execution_count": 181,
   "metadata": {
    "scrolled": false
   },
   "outputs": [
    {
     "name": "stdout",
     "output_type": "stream",
     "text": [
      "             Testing Scores\n",
      "           -------------------\n",
      "          | Accuracy  | 0.862 |\n",
      "          | Recall    | 0.831 |\n",
      "          | Precision | 0.881 |\n",
      "          | F1        | 0.855 |\n",
      "           -------------------\n"
     ]
    },
    {
     "data": {
      "image/png": "[encoded data removed]",
      "text/plain": [
       "<Figure size 432x288 with 2 Axes>"
      ]
     },
     "metadata": {
      "needs_background": "light"
     },
     "output_type": "display_data"
    }
   ],
   "source": [
    "#testing scores\n",
    "cnn4_scores = nn_scores(y_test, cnn4_preds)"
   ]
  },
  {
   "cell_type": "markdown",
   "metadata": {},
   "source": [
    "All of our testing metrics improved in this model. The one thing that is slightly concerning is that overfitting is starting to happen. This can be addressed by increasing our testing size. It is interesting that reducing layers leads to overfitting. I believe this might be becuase detecting pulmonary embolisms is a hard task that relies on spotting minute differences in blood flow. Consequently, less neurons reduces a models success with unseen data."
   ]
  },
  {
   "cell_type": "code",
   "execution_count": 205,
   "metadata": {},
   "outputs": [
    {
     "name": "stdout",
     "output_type": "stream",
     "text": [
      "INFO:tensorflow:Assets written to: cnn4/assets\n"
     ]
    }
   ],
   "source": [
    "# save model\n",
    "cnn4.save('cnn4')\n",
    "cnn4.save_weights('cnn4_weights')"
   ]
  },
  {
   "cell_type": "markdown",
   "metadata": {},
   "source": [
    "## Increased neurons in penultimate layer"
   ]
  },
  {
   "cell_type": "markdown",
   "metadata": {},
   "source": [
    "In this model the neurons in the layer before the output are increased to 256 from 128."
   ]
  },
  {
   "cell_type": "code",
   "execution_count": 182,
   "metadata": {},
   "outputs": [],
   "source": [
    "cnn5 = models.Sequential()\n",
    "cnn5.add(layers.Conv2D(512, (3, 3), activation='relu', input_shape=(256, 256,  3)))\n",
    "cnn5.add(layers.MaxPooling2D(pool_size = (2, 2), strides = (2,2)))\n",
    "cnn5.add(layers.Conv2D(512, (3, 3), activation='relu'))\n",
    "cnn5.add(layers.MaxPooling2D(pool_size = (2, 2), strides = (2,2)))\n",
    "cnn5.add(layers.Flatten())\n",
    "cnn5.add(layers.Dense(256, activation='relu'))\n",
    "cnn5.add(layers.Dense(1, activation='sigmoid'))\n",
    "\n",
    "cnn5.compile(loss='binary_crossentropy',\n",
    "              optimizer=\"adam\",\n",
    "              metrics=[tf.keras.metrics.Recall()])"
   ]
  },
  {
   "cell_type": "code",
   "execution_count": 183,
   "metadata": {},
   "outputs": [
    {
     "name": "stdout",
     "output_type": "stream",
     "text": [
      "Epoch 1/5\n",
      "16/16 [==============================] - 685s 43s/step - loss: 6.5523 - recall_12: 0.6683 - val_loss: 0.4464 - val_recall_12: 0.8333\n",
      "Epoch 2/5\n",
      "16/16 [==============================] - 659s 41s/step - loss: 0.4249 - recall_12: 0.7976 - val_loss: 0.4273 - val_recall_12: 0.8137\n",
      "Epoch 3/5\n",
      "16/16 [==============================] - 622s 39s/step - loss: 0.3407 - recall_12: 0.8244 - val_loss: 0.4164 - val_recall_12: 0.7059\n",
      "Epoch 4/5\n",
      "16/16 [==============================] - 629s 39s/step - loss: 0.2562 - recall_12: 0.8732 - val_loss: 0.4269 - val_recall_12: 0.8725\n",
      "Epoch 5/5\n",
      "16/16 [==============================] - 628s 39s/step - loss: 0.1308 - recall_12: 0.9390 - val_loss: 0.6072 - val_recall_12: 0.9412\n"
     ]
    },
    {
     "data": {
      "text/plain": [
       "<tensorflow.python.keras.callbacks.History at 0x7fe71bb69cd0>"
      ]
     },
     "execution_count": 183,
     "metadata": {},
     "output_type": "execute_result"
    }
   ],
   "source": [
    "cnn5.fit(X_train,\n",
    "        y_train,\n",
    "        epochs=5,\n",
    "        batch_size=50,\n",
    "        validation_data=(X_val, y_val),\n",
    "        verbose = 1,\n",
    "        workers = 7)"
   ]
  },
  {
   "cell_type": "code",
   "execution_count": 184,
   "metadata": {},
   "outputs": [
    {
     "name": "stdout",
     "output_type": "stream",
     "text": [
      "32/32 [==============================] - 224s 7s/step - loss: 0.4603 - recall_12: 0.9163\n"
     ]
    },
    {
     "data": {
      "text/plain": [
       "[0.46028879284858704, 0.9163265228271484]"
      ]
     },
     "execution_count": 184,
     "metadata": {},
     "output_type": "execute_result"
    }
   ],
   "source": [
    "cnn5.evaluate(X_test, y_test)"
   ]
  },
  {
   "cell_type": "code",
   "execution_count": 186,
   "metadata": {},
   "outputs": [],
   "source": [
    "#predicitions\n",
    "cnn5_preds = cnn5.predict(X_test)"
   ]
  },
  {
   "cell_type": "code",
   "execution_count": 187,
   "metadata": {
    "scrolled": false
   },
   "outputs": [
    {
     "name": "stdout",
     "output_type": "stream",
     "text": [
      "             Testing Scores\n",
      "           -------------------\n",
      "          | Accuracy  | 0.818 |\n",
      "          | Recall    | 0.916 |\n",
      "          | Precision | 0.761 |\n",
      "          | F1        | 0.831 |\n",
      "           -------------------\n"
     ]
    },
    {
     "data": {
      "image/png": "[encoded data removed]",
      "text/plain": [
       "<Figure size 432x288 with 2 Axes>"
      ]
     },
     "metadata": {
      "needs_background": "light"
     },
     "output_type": "display_data"
    }
   ],
   "source": [
    "#testing scores\n",
    "cnn5_scores = nn_scores(y_test, cnn5_preds)"
   ]
  },
  {
   "cell_type": "markdown",
   "metadata": {},
   "source": [
    "This model has performed the best in terms of recall. Additionally, it is not overfitting which is great. The main critique of this model is it's accuracy score. Ideally, it would be much higher. Training with a larger dataset should help this."
   ]
  },
  {
   "cell_type": "code",
   "execution_count": 206,
   "metadata": {},
   "outputs": [
    {
     "name": "stdout",
     "output_type": "stream",
     "text": [
      "INFO:tensorflow:Assets written to: cnn5/assets\n"
     ]
    }
   ],
   "source": [
    "# save model\n",
    "cnn5.save('cnn5')\n",
    "cnn5.save_weights('cnn5_weights')"
   ]
  },
  {
   "cell_type": "markdown",
   "metadata": {},
   "source": [
    "## Decreased neurons in penultimate layer"
   ]
  },
  {
   "cell_type": "markdown",
   "metadata": {},
   "source": [
    "This time let's go the other direction with the neurons in the layer before the output layer. We decreased the neurons from 128 to 64."
   ]
  },
  {
   "cell_type": "code",
   "execution_count": 188,
   "metadata": {},
   "outputs": [],
   "source": [
    "cnn6 = models.Sequential()\n",
    "cnn6.add(layers.Conv2D(512, (3, 3), activation='relu', input_shape=(256, 256,  3)))\n",
    "cnn6.add(layers.MaxPooling2D(pool_size = (2, 2), strides = (2,2)))\n",
    "cnn6.add(layers.Conv2D(512, (3, 3), activation='relu'))\n",
    "cnn6.add(layers.MaxPooling2D(pool_size = (2, 2), strides = (2,2)))\n",
    "cnn6.add(layers.Flatten())\n",
    "cnn6.add(layers.Dense(64, activation='relu'))\n",
    "cnn6.add(layers.Dense(1, activation='sigmoid'))\n",
    "\n",
    "cnn6.compile(loss='binary_crossentropy',\n",
    "              optimizer=\"adam\",\n",
    "              metrics=[tf.keras.metrics.Recall()])"
   ]
  },
  {
   "cell_type": "code",
   "execution_count": 189,
   "metadata": {
    "scrolled": true
   },
   "outputs": [
    {
     "name": "stdout",
     "output_type": "stream",
     "text": [
      "Epoch 1/5\n",
      "16/16 [==============================] - 677s 42s/step - loss: 3.3710 - recall_13: 0.8732 - val_loss: 0.6276 - val_recall_13: 0.9412\n",
      "Epoch 2/5\n",
      "16/16 [==============================] - 651s 41s/step - loss: 0.4394 - recall_13: 0.8341 - val_loss: 0.5182 - val_recall_13: 0.5980\n",
      "Epoch 3/5\n",
      "16/16 [==============================] - 625s 39s/step - loss: 0.3212 - recall_13: 0.8390 - val_loss: 0.4386 - val_recall_13: 0.8039\n",
      "Epoch 4/5\n",
      "16/16 [==============================] - 640s 40s/step - loss: 0.2017 - recall_13: 0.9122 - val_loss: 0.4714 - val_recall_13: 0.7745\n",
      "Epoch 5/5\n",
      "16/16 [==============================] - 687s 43s/step - loss: 0.1008 - recall_13: 0.9585 - val_loss: 0.5724 - val_recall_13: 0.7059\n"
     ]
    },
    {
     "data": {
      "text/plain": [
       "<tensorflow.python.keras.callbacks.History at 0x7fe71e91f340>"
      ]
     },
     "execution_count": 189,
     "metadata": {},
     "output_type": "execute_result"
    }
   ],
   "source": [
    "cnn6.fit(X_train,\n",
    "        y_train,\n",
    "        epochs=5,\n",
    "        batch_size=50,\n",
    "        validation_data=(X_val, y_val),\n",
    "        verbose = 1,\n",
    "        workers = 7)"
   ]
  },
  {
   "cell_type": "code",
   "execution_count": null,
   "metadata": {},
   "outputs": [],
   "source": [
    "cnn6.evaluate(X_test, y_test)"
   ]
  },
  {
   "cell_type": "code",
   "execution_count": 191,
   "metadata": {},
   "outputs": [],
   "source": [
    "#predictions\n",
    "cnn6_preds = cnn6.predict(X_test)"
   ]
  },
  {
   "cell_type": "code",
   "execution_count": 192,
   "metadata": {},
   "outputs": [
    {
     "name": "stdout",
     "output_type": "stream",
     "text": [
      "             Testing Scores\n",
      "           -------------------\n",
      "          | Accuracy  | 0.848 |\n",
      "          | Recall    | 0.792 |\n",
      "          | Precision | 0.886 |\n",
      "          | F1        | 0.836 |\n",
      "           -------------------\n"
     ]
    },
    {
     "data": {
      "image/png": "[encoded data removed]",
      "text/plain": [
       "<Figure size 432x288 with 2 Axes>"
      ]
     },
     "metadata": {
      "needs_background": "light"
     },
     "output_type": "display_data"
    }
   ],
   "source": [
    "#testing scores\n",
    "cnn6_scores = nn_scores(y_test, cnn6_preds)"
   ]
  },
  {
   "cell_type": "markdown",
   "metadata": {},
   "source": [
    "Again, there is an issue of overfitting when we decrease the amount of neurons. This confirms that we need more neurons to be able to better classifying pulmonary embolisms with unseen data."
   ]
  },
  {
   "cell_type": "code",
   "execution_count": 207,
   "metadata": {},
   "outputs": [
    {
     "name": "stdout",
     "output_type": "stream",
     "text": [
      "INFO:tensorflow:Assets written to: cnn6/assets\n"
     ]
    }
   ],
   "source": [
    "# save model\n",
    "cnn6.save('cnn6')\n",
    "cnn6.save_weights('cnn6_weights')"
   ]
  },
  {
   "cell_type": "markdown",
   "metadata": {},
   "source": [
    "## Reducing neurons in each layer by half"
   ]
  },
  {
   "cell_type": "markdown",
   "metadata": {},
   "source": [
    "This model was more of an educated guess. I remembered reading somewhere about reducing each layer's nuerons by a factor of 2 each time. So I did that and added a third convolutional layer. Additionally, I didn't use a stride length for the last max pooling layer."
   ]
  },
  {
   "cell_type": "code",
   "execution_count": 246,
   "metadata": {},
   "outputs": [],
   "source": [
    "cnn7 = models.Sequential()\n",
    "cnn7.add(layers.Conv2D(512, (3, 3), activation='relu', input_shape=(256, 256,  3)))\n",
    "cnn7.add(layers.MaxPooling2D(pool_size = (2, 2), strides = (2,2)))\n",
    "cnn7.add(layers.Conv2D(256, (3, 3), activation='relu'))\n",
    "cnn7.add(layers.MaxPooling2D(pool_size = (2, 2), strides = (2,2)))\n",
    "cnn7.add(layers.Conv2D(128, (3, 3), activation='relu'))\n",
    "cnn7.add(layers.MaxPooling2D(pool_size = (2, 2)))\n",
    "cnn7.add(layers.Flatten())\n",
    "cnn7.add(layers.Dense(256, activation='relu'))\n",
    "cnn7.add(layers.Dense(1, activation='sigmoid'))\n",
    "\n",
    "cnn7.compile(loss='binary_crossentropy',\n",
    "              optimizer=\"adam\",\n",
    "              metrics=['acc', tf.keras.metrics.Recall()])"
   ]
  },
  {
   "cell_type": "code",
   "execution_count": 248,
   "metadata": {},
   "outputs": [
    {
     "name": "stdout",
     "output_type": "stream",
     "text": [
      "Epoch 1/5\n",
      "16/16 [==============================] - 403s 25s/step - loss: 0.6018 - acc: 0.6913 - recall_3: 0.7171 - val_loss: 0.5331 - val_acc: 0.7350 - val_recall_3: 0.6078\n",
      "Epoch 2/5\n",
      "16/16 [==============================] - 377s 24s/step - loss: 0.4320 - acc: 0.8075 - recall_3: 0.7463 - val_loss: 0.4554 - val_acc: 0.7450 - val_recall_3: 0.8039\n",
      "Epoch 3/5\n",
      "16/16 [==============================] - 366s 23s/step - loss: 0.3678 - acc: 0.8500 - recall_3: 0.8512 - val_loss: 0.4625 - val_acc: 0.7850 - val_recall_3: 0.9020\n",
      "Epoch 4/5\n",
      "16/16 [==============================] - 370s 23s/step - loss: 0.3001 - acc: 0.8763 - recall_3: 0.8537 - val_loss: 0.4387 - val_acc: 0.8000 - val_recall_3: 0.8529\n",
      "Epoch 5/5\n",
      "16/16 [==============================] - 388s 24s/step - loss: 0.2391 - acc: 0.9062 - recall_3: 0.8927 - val_loss: 0.4339 - val_acc: 0.8300 - val_recall_3: 0.9020\n"
     ]
    },
    {
     "data": {
      "text/plain": [
       "<tensorflow.python.keras.callbacks.History at 0x7feb3a50acd0>"
      ]
     },
     "execution_count": 248,
     "metadata": {},
     "output_type": "execute_result"
    }
   ],
   "source": [
    "cnn7.fit(X_train,\n",
    "        y_train,\n",
    "        epochs=5,\n",
    "        batch_size=50,\n",
    "        validation_data=(X_val, y_val),\n",
    "        verbose = 1,\n",
    "        workers = 7)"
   ]
  },
  {
   "cell_type": "code",
   "execution_count": 249,
   "metadata": {},
   "outputs": [],
   "source": [
    "cnn7_preds = cnn7.predict(X_test)"
   ]
  },
  {
   "cell_type": "code",
   "execution_count": 250,
   "metadata": {
    "scrolled": false
   },
   "outputs": [
    {
     "name": "stdout",
     "output_type": "stream",
     "text": [
      "             Testing Scores\n",
      "           -------------------\n",
      "          | Accuracy  | 0.857 |\n",
      "          | Recall    | 0.853 |\n",
      "          | Precision | 0.855 |\n",
      "          | F1        | 0.854 |\n",
      "           -------------------\n"
     ]
    },
    {
     "data": {
      "image/png": "[encoded data removed]",
      "text/plain": [
       "<Figure size 432x288 with 2 Axes>"
      ]
     },
     "metadata": {
      "needs_background": "light"
     },
     "output_type": "display_data"
    }
   ],
   "source": [
    "cnn7_scores = nn_scores(y_test, cnn7_preds)"
   ]
  },
  {
   "cell_type": "markdown",
   "metadata": {},
   "source": [
    "Being less systematic for the apporach for this model paid of. It ended up being the best model overall. I think it's the best overall, becuase it's accuracy as well as recall are high where for the other models it's either or. This will be the model we try to optimize with more training images and more epochs."
   ]
  },
  {
   "cell_type": "code",
   "execution_count": 251,
   "metadata": {},
   "outputs": [
    {
     "name": "stdout",
     "output_type": "stream",
     "text": [
      "INFO:tensorflow:Assets written to: cnn7/assets\n"
     ]
    }
   ],
   "source": [
    "# save model\n",
    "cnn7.save('cnn7')\n",
    "cnn7.save_weights('cnn7_weights')"
   ]
  },
  {
   "cell_type": "markdown",
   "metadata": {},
   "source": [
    "## Final Models"
   ]
  },
  {
   "cell_type": "markdown",
   "metadata": {},
   "source": [
    "Now that we have a model with features that perform the best, we will increase the size of our test, validation, and training sets to 4800, 1200 and 5000 respectively. Increasing the amount of images trained on will increase performance. (Note: These numbers are selected based on our current computer's processing limitations.)"
   ]
  },
  {
   "cell_type": "code",
   "execution_count": 4,
   "metadata": {},
   "outputs": [
    {
     "name": "stdout",
     "output_type": "stream",
     "text": [
      "Found 72527 images belonging to 2 classes.\n"
     ]
    }
   ],
   "source": [
    "root = \"data/\"\n",
    "data_all2 = ImageDataGenerator(rescale=1./255).flow_from_directory( \n",
    "        root, \n",
    "        target_size=(256, 256), \n",
    "        batch_size = 5000, \n",
    "        seed = 33)"
   ]
  },
  {
   "cell_type": "markdown",
   "metadata": {},
   "source": [
    "Split our data into its images and classes."
   ]
  },
  {
   "cell_type": "code",
   "execution_count": 5,
   "metadata": {},
   "outputs": [],
   "source": [
    "images2, labels2 = next(data_all2)"
   ]
  },
  {
   "cell_type": "markdown",
   "metadata": {},
   "source": [
    "Reshape labels, in order to perfrom train test split"
   ]
  },
  {
   "cell_type": "code",
   "execution_count": 6,
   "metadata": {},
   "outputs": [],
   "source": [
    "labels2 = np.reshape(labels2[:,0], (5000,1))"
   ]
  },
  {
   "cell_type": "markdown",
   "metadata": {},
   "source": [
    "Train test split the validation and training set as well as get our test set."
   ]
  },
  {
   "cell_type": "code",
   "execution_count": 7,
   "metadata": {},
   "outputs": [],
   "source": [
    "X_train2, X_val2, y_train2, y_val2 = train_test_split(images2, labels2, test_size=0.20, random_state=33)\n",
    "\n",
    "X_test2, y_test2 = next(data_all2)\n",
    "\n",
    "y_test2 = np.reshape(y_test2[:,0], (5000,1))"
   ]
  },
  {
   "cell_type": "markdown",
   "metadata": {},
   "source": [
    "### Increased training and validation set size (epochs = 5)"
   ]
  },
  {
   "cell_type": "code",
   "execution_count": 8,
   "metadata": {},
   "outputs": [],
   "source": [
    "cnn8 = models.Sequential()\n",
    "cnn8.add(layers.Conv2D(512, (3, 3), activation='relu', input_shape=(256, 256,  3)))\n",
    "cnn8.add(layers.MaxPooling2D(pool_size = (2, 2), strides = (2,2)))\n",
    "cnn8.add(layers.Conv2D(256, (3, 3), activation='relu'))\n",
    "cnn8.add(layers.MaxPooling2D(pool_size = (2, 2), strides = (2,2)))\n",
    "cnn8.add(layers.Conv2D(128, (3, 3), activation='relu'))\n",
    "cnn8.add(layers.MaxPooling2D(pool_size = (2, 2)))\n",
    "cnn8.add(layers.Flatten())\n",
    "cnn8.add(layers.Dense(256, activation='relu'))\n",
    "cnn8.add(layers.Dense(1, activation='sigmoid'))\n",
    "\n",
    "cnn8.compile(loss='binary_crossentropy',\n",
    "              optimizer=\"adam\",\n",
    "              metrics=['acc', tf.keras.metrics.Recall()])"
   ]
  },
  {
   "cell_type": "code",
   "execution_count": 9,
   "metadata": {},
   "outputs": [
    {
     "name": "stdout",
     "output_type": "stream",
     "text": [
      "Epoch 1/5\n",
      "80/80 [==============================] - 1992s 25s/step - loss: 0.5407 - acc: 0.7623 - recall: 0.7571 - val_loss: 0.3415 - val_acc: 0.8580 - val_recall: 0.9000\n",
      "Epoch 2/5\n",
      "80/80 [==============================] - 1939s 24s/step - loss: 0.3156 - acc: 0.8695 - recall: 0.8563 - val_loss: 0.2892 - val_acc: 0.8830 - val_recall: 0.8549\n",
      "Epoch 3/5\n",
      "80/80 [==============================] - 1906s 24s/step - loss: 0.2693 - acc: 0.8970 - recall: 0.8833 - val_loss: 0.2645 - val_acc: 0.8950 - val_recall: 0.8392\n",
      "Epoch 4/5\n",
      "80/80 [==============================] - 1866s 23s/step - loss: 0.1964 - acc: 0.9268 - recall: 0.9134 - val_loss: 0.2782 - val_acc: 0.8960 - val_recall: 0.9471\n",
      "Epoch 5/5\n",
      "80/80 [==============================] - 1855s 23s/step - loss: 0.1447 - acc: 0.9465 - recall: 0.9394 - val_loss: 0.2123 - val_acc: 0.9200 - val_recall: 0.9000\n"
     ]
    },
    {
     "data": {
      "text/plain": [
       "<tensorflow.python.keras.callbacks.History at 0x7ff4e0dad7f0>"
      ]
     },
     "execution_count": 9,
     "metadata": {},
     "output_type": "execute_result"
    }
   ],
   "source": [
    "cnn8.fit(X_train2,\n",
    "        y_train2,\n",
    "        epochs=5,\n",
    "        batch_size=50,\n",
    "        validation_data=(X_val2, y_val2),\n",
    "        verbose = 1,\n",
    "        workers = 7)"
   ]
  },
  {
   "cell_type": "code",
   "execution_count": 10,
   "metadata": {},
   "outputs": [],
   "source": [
    "#predictions\n",
    "cnn8_preds = cnn8.predict(X_test2)"
   ]
  },
  {
   "cell_type": "code",
   "execution_count": 16,
   "metadata": {
    "scrolled": false
   },
   "outputs": [
    {
     "name": "stdout",
     "output_type": "stream",
     "text": [
      "             Testing Scores\n",
      "           -------------------\n",
      "          | Accuracy  | 0.914 |\n",
      "          | Recall    | 0.896 |\n",
      "          | Precision | 0.931 |\n",
      "          | F1        | 0.913 |\n",
      "           -------------------\n"
     ]
    },
    {
     "data": {
      "image/png": "[encoded data removed]",
      "text/plain": [
       "<Figure size 432x288 with 2 Axes>"
      ]
     },
     "metadata": {
      "needs_background": "light"
     },
     "output_type": "display_data"
    }
   ],
   "source": [
    "#testing scores\n",
    "cnn8_scores = nn_scores(y_test2, cnn8_preds)"
   ]
  },
  {
   "cell_type": "markdown",
   "metadata": {},
   "source": [
    "This definitely helped our model. You can see how all of the testing scores increased from the model trained on less images. Let's see if increasing the number of epochs helps."
   ]
  },
  {
   "cell_type": "code",
   "execution_count": 238,
   "metadata": {},
   "outputs": [
    {
     "name": "stdout",
     "output_type": "stream",
     "text": [
      "INFO:tensorflow:Assets written to: cnn8/assets\n"
     ]
    }
   ],
   "source": [
    "# save model\n",
    "cnn8.save('cnn8')\n",
    "cnn8.save_weights('cnn8_weights')"
   ]
  },
  {
   "cell_type": "markdown",
   "metadata": {},
   "source": [
    "### Increased training and validation set size (epochs = 15)"
   ]
  },
  {
   "cell_type": "markdown",
   "metadata": {},
   "source": [
    "Increased epochs to 15"
   ]
  },
  {
   "cell_type": "code",
   "execution_count": 11,
   "metadata": {},
   "outputs": [],
   "source": [
    "cnn9 = models.Sequential()\n",
    "cnn9.add(layers.Conv2D(512, (3, 3), activation='relu', input_shape=(256, 256,  3)))\n",
    "cnn9.add(layers.MaxPooling2D(pool_size = (2, 2), strides = (2,2)))\n",
    "cnn9.add(layers.Conv2D(256, (3, 3), activation='relu'))\n",
    "cnn9.add(layers.MaxPooling2D(pool_size = (2, 2), strides = (2,2)))\n",
    "cnn9.add(layers.Conv2D(128, (3, 3), activation='relu'))\n",
    "cnn9.add(layers.MaxPooling2D(pool_size = (2, 2)))\n",
    "cnn9.add(layers.Flatten())\n",
    "cnn9.add(layers.Dense(256, activation='relu'))\n",
    "cnn9.add(layers.Dense(1, activation='sigmoid'))\n",
    "\n",
    "cnn9.compile(loss='binary_crossentropy',\n",
    "              optimizer=\"adam\",\n",
    "              metrics=['acc', tf.keras.metrics.Recall()])"
   ]
  },
  {
   "cell_type": "code",
   "execution_count": 12,
   "metadata": {},
   "outputs": [
    {
     "name": "stdout",
     "output_type": "stream",
     "text": [
      "Epoch 1/15\n",
      "80/80 [==============================] - 1945s 24s/step - loss: 0.7189 - acc: 0.7605 - recall_1: 0.7321 - val_loss: 0.3397 - val_acc: 0.8660 - val_recall_1: 0.8627\n",
      "Epoch 2/15\n",
      "80/80 [==============================] - 1896s 24s/step - loss: 0.3151 - acc: 0.8770 - recall_1: 0.8708 - val_loss: 0.3462 - val_acc: 0.8810 - val_recall_1: 0.8137\n",
      "Epoch 3/15\n",
      "80/80 [==============================] - 1898s 24s/step - loss: 0.2691 - acc: 0.9000 - recall_1: 0.8963 - val_loss: 0.2518 - val_acc: 0.8980 - val_recall_1: 0.8941\n",
      "Epoch 4/15\n",
      "80/80 [==============================] - 1884s 24s/step - loss: 0.2160 - acc: 0.9210 - recall_1: 0.9239 - val_loss: 0.2733 - val_acc: 0.8890 - val_recall_1: 0.8059\n",
      "Epoch 5/15\n",
      "80/80 [==============================] - 1887s 24s/step - loss: 0.1713 - acc: 0.9340 - recall_1: 0.9279 - val_loss: 0.2365 - val_acc: 0.9050 - val_recall_1: 0.9039\n",
      "Epoch 6/15\n",
      "80/80 [==============================] - 1867s 23s/step - loss: 0.0931 - acc: 0.9647 - recall_1: 0.9629 - val_loss: 0.2021 - val_acc: 0.9310 - val_recall_1: 0.9353\n",
      "Epoch 7/15\n",
      "80/80 [==============================] - 1850s 23s/step - loss: 0.0594 - acc: 0.9778 - recall_1: 0.9780 - val_loss: 0.2839 - val_acc: 0.9150 - val_recall_1: 0.9667\n",
      "Epoch 8/15\n",
      "80/80 [==============================] - 1851s 23s/step - loss: 0.0368 - acc: 0.9875 - recall_1: 0.9860 - val_loss: 0.2700 - val_acc: 0.9290 - val_recall_1: 0.9686\n",
      "Epoch 9/15\n",
      "80/80 [==============================] - 1846s 23s/step - loss: 0.0223 - acc: 0.9930 - recall_1: 0.9935 - val_loss: 0.3378 - val_acc: 0.9170 - val_recall_1: 0.8765\n",
      "Epoch 10/15\n",
      "80/80 [==============================] - 1844s 23s/step - loss: 0.0173 - acc: 0.9955 - recall_1: 0.9945 - val_loss: 0.2464 - val_acc: 0.9430 - val_recall_1: 0.9549\n",
      "Epoch 11/15\n",
      "80/80 [==============================] - 1854s 23s/step - loss: 0.0150 - acc: 0.9948 - recall_1: 0.9945 - val_loss: 0.3915 - val_acc: 0.9170 - val_recall_1: 0.9765\n",
      "Epoch 12/15\n",
      "80/80 [==============================] - 1851s 23s/step - loss: 0.0129 - acc: 0.9960 - recall_1: 0.9975 - val_loss: 0.3471 - val_acc: 0.9290 - val_recall_1: 0.9078\n",
      "Epoch 13/15\n",
      "80/80 [==============================] - 1850s 23s/step - loss: 0.0059 - acc: 0.9985 - recall_1: 0.9980 - val_loss: 0.3223 - val_acc: 0.9450 - val_recall_1: 0.9353\n",
      "Epoch 14/15\n",
      "80/80 [==============================] - 1849s 23s/step - loss: 0.0082 - acc: 0.9980 - recall_1: 0.9980 - val_loss: 0.3788 - val_acc: 0.9270 - val_recall_1: 0.9294\n",
      "Epoch 15/15\n",
      "80/80 [==============================] - 1846s 23s/step - loss: 0.0068 - acc: 0.9973 - recall_1: 0.9975 - val_loss: 0.5079 - val_acc: 0.9230 - val_recall_1: 0.9490\n"
     ]
    },
    {
     "data": {
      "text/plain": [
       "<tensorflow.python.keras.callbacks.History at 0x7ff4c502c9d0>"
      ]
     },
     "execution_count": 12,
     "metadata": {},
     "output_type": "execute_result"
    }
   ],
   "source": [
    "cnn9.fit(X_train2,\n",
    "        y_train2,\n",
    "        epochs=15,\n",
    "        batch_size=50,\n",
    "        validation_data=(X_val2, y_val2),\n",
    "        verbose = 1,\n",
    "        workers = 7)"
   ]
  },
  {
   "cell_type": "code",
   "execution_count": 13,
   "metadata": {},
   "outputs": [],
   "source": [
    "cnn9_preds = cnn9.predict(X_test2)"
   ]
  },
  {
   "cell_type": "code",
   "execution_count": 15,
   "metadata": {
    "scrolled": false
   },
   "outputs": [
    {
     "name": "stdout",
     "output_type": "stream",
     "text": [
      "             Testing Scores\n",
      "           -------------------\n",
      "          | Accuracy  | 0.915 |\n",
      "          | Recall    | 0.941 |\n",
      "          | Precision | 0.896 |\n",
      "          | F1        | 0.918 |\n",
      "           -------------------\n"
     ]
    },
    {
     "data": {
      "image/png": "[encoded data removed]",
      "text/plain": [
       "<Figure size 432x288 with 2 Axes>"
      ]
     },
     "metadata": {
      "needs_background": "light"
     },
     "output_type": "display_data"
    }
   ],
   "source": [
    "cnn9_scores = nn_scores(y_test2, cnn9_preds)"
   ]
  },
  {
   "cell_type": "markdown",
   "metadata": {},
   "source": [
    "Again this helped improve the model. All testing scores went up besides precision which makes sense because increasing recall tends to reduce precision. You can see by the model training output 2 cells above that at epoch 10 the best scores were achieved. Consequently, 15 might be too much and overfitting is starting to occur. Let's try 10 epochs for then next model."
   ]
  },
  {
   "cell_type": "code",
   "execution_count": 239,
   "metadata": {},
   "outputs": [
    {
     "name": "stdout",
     "output_type": "stream",
     "text": [
      "INFO:tensorflow:Assets written to: cnn9/assets\n"
     ]
    }
   ],
   "source": [
    "# save model\n",
    "cnn9.save('cnn9')\n",
    "cnn9.save_weights('cnn9_weights')"
   ]
  },
  {
   "cell_type": "markdown",
   "metadata": {},
   "source": [
    "### Increased training and validation set size (epochs = 10)"
   ]
  },
  {
   "cell_type": "markdown",
   "metadata": {},
   "source": [
    "Reduced epochs to 10"
   ]
  },
  {
   "cell_type": "code",
   "execution_count": 17,
   "metadata": {},
   "outputs": [],
   "source": [
    "cnn10 = models.Sequential()\n",
    "cnn10.add(layers.Conv2D(512, (3, 3), activation='relu', input_shape=(256, 256,  3)))\n",
    "cnn10.add(layers.MaxPooling2D(pool_size = (2, 2), strides = (2,2)))\n",
    "cnn10.add(layers.Conv2D(256, (3, 3), activation='relu'))\n",
    "cnn10.add(layers.MaxPooling2D(pool_size = (2, 2), strides = (2,2)))\n",
    "cnn10.add(layers.Conv2D(128, (3, 3), activation='relu'))\n",
    "cnn10.add(layers.MaxPooling2D(pool_size = (2, 2)))\n",
    "cnn10.add(layers.Flatten())\n",
    "cnn10.add(layers.Dense(256, activation='relu'))\n",
    "cnn10.add(layers.Dense(1, activation='sigmoid'))\n",
    "\n",
    "cnn10.compile(loss='binary_crossentropy',\n",
    "              optimizer=\"adam\",\n",
    "              metrics=['acc', tf.keras.metrics.Recall()])"
   ]
  },
  {
   "cell_type": "code",
   "execution_count": 18,
   "metadata": {
    "scrolled": false
   },
   "outputs": [
    {
     "name": "stdout",
     "output_type": "stream",
     "text": [
      "Epoch 1/10\n",
      "80/80 [==============================] - 2119s 26s/step - loss: 0.6169 - acc: 0.7138 - recall_2: 0.6760 - val_loss: 0.3567 - val_acc: 0.8340 - val_recall_2: 0.8569\n",
      "Epoch 2/10\n",
      "80/80 [==============================] - 2017s 25s/step - loss: 0.3344 - acc: 0.8665 - recall_2: 0.8503 - val_loss: 0.3099 - val_acc: 0.8650 - val_recall_2: 0.7784\n",
      "Epoch 3/10\n",
      "80/80 [==============================] - 1888s 24s/step - loss: 0.2766 - acc: 0.8925 - recall_2: 0.8833 - val_loss: 0.2549 - val_acc: 0.9030 - val_recall_2: 0.9157\n",
      "Epoch 4/10\n",
      "80/80 [==============================] - 1864s 23s/step - loss: 0.2067 - acc: 0.9165 - recall_2: 0.9084 - val_loss: 0.2520 - val_acc: 0.9060 - val_recall_2: 0.8588\n",
      "Epoch 5/10\n",
      "80/80 [==============================] - 1862s 23s/step - loss: 0.1464 - acc: 0.9460 - recall_2: 0.9464 - val_loss: 0.2289 - val_acc: 0.9010 - val_recall_2: 0.8745\n",
      "Epoch 6/10\n",
      "80/80 [==============================] - 1853s 23s/step - loss: 0.1006 - acc: 0.9647 - recall_2: 0.9639 - val_loss: 0.3200 - val_acc: 0.8970 - val_recall_2: 0.9333\n",
      "Epoch 7/10\n",
      "80/80 [==============================] - 1855s 23s/step - loss: 0.0832 - acc: 0.9728 - recall_2: 0.9705 - val_loss: 0.3201 - val_acc: 0.9050 - val_recall_2: 0.8843\n",
      "Epoch 8/10\n",
      "80/80 [==============================] - 1958s 24s/step - loss: 0.0453 - acc: 0.9837 - recall_2: 0.9840 - val_loss: 0.2165 - val_acc: 0.9300 - val_recall_2: 0.9314\n",
      "Epoch 9/10\n",
      "80/80 [==============================] - 2133s 27s/step - loss: 0.0423 - acc: 0.9840 - recall_2: 0.9840 - val_loss: 0.2660 - val_acc: 0.9300 - val_recall_2: 0.9255\n",
      "Epoch 10/10\n",
      "80/80 [==============================] - 2061s 26s/step - loss: 0.0347 - acc: 0.9885 - recall_2: 0.9875 - val_loss: 0.3177 - val_acc: 0.9220 - val_recall_2: 0.9549\n"
     ]
    },
    {
     "data": {
      "text/plain": [
       "<tensorflow.python.keras.callbacks.History at 0x7fed783d42b0>"
      ]
     },
     "execution_count": 18,
     "metadata": {},
     "output_type": "execute_result"
    }
   ],
   "source": [
    "cnn10.fit(X_train2,\n",
    "        y_train2,\n",
    "        epochs=10,\n",
    "        batch_size=50,\n",
    "        validation_data=(X_val2, y_val2),\n",
    "        verbose = 1,\n",
    "        workers = 7)"
   ]
  },
  {
   "cell_type": "code",
   "execution_count": 19,
   "metadata": {},
   "outputs": [],
   "source": [
    "cnn10_preds = cnn10.predict(X_test2)"
   ]
  },
  {
   "cell_type": "code",
   "execution_count": 21,
   "metadata": {
    "scrolled": false
   },
   "outputs": [
    {
     "name": "stdout",
     "output_type": "stream",
     "text": [
      "             Testing Scores\n",
      "           -------------------\n",
      "          | Accuracy  | 0.916 |\n",
      "          | Recall    | 0.945 |\n",
      "          | Precision | 0.893 |\n",
      "          | F1        | 0.919 |\n",
      "           -------------------\n"
     ]
    },
    {
     "data": {
      "image/png": "[encoded data removed]",
      "text/plain": [
       "<Figure size 432x288 with 2 Axes>"
      ]
     },
     "metadata": {
      "needs_background": "light"
     },
     "output_type": "display_data"
    }
   ],
   "source": [
    "cnn10_score = nn_scores(y_test2, cnn10_preds)"
   ]
  },
  {
   "cell_type": "markdown",
   "metadata": {},
   "source": [
    "Wohoo! This model produced the best results. Epochs decreased and every measure besides precision was improved. This we be the final model."
   ]
  },
  {
   "cell_type": "code",
   "execution_count": 240,
   "metadata": {},
   "outputs": [
    {
     "name": "stdout",
     "output_type": "stream",
     "text": [
      "INFO:tensorflow:Assets written to: cnn10/assets\n"
     ]
    }
   ],
   "source": [
    "# save model\n",
    "cnn10.save('cnn10')\n",
    "cnn10.save_weights('cnn10_weights')"
   ]
  },
  {
   "cell_type": "markdown",
   "metadata": {},
   "source": [
    "## Conclusion"
   ]
  },
  {
   "cell_type": "markdown",
   "metadata": {},
   "source": [
    "Medical practitioners who utlize this model would reduce the time it takes to confirm a diagnosis of a PE. The model could be used to identify which images have a PE present and would give the practicioner a good starting place for what images to examine first to confirm the PE. This would help shorten the time it takes for treatment to start, and in turn prevent deaths."
   ]
  },
  {
   "cell_type": "markdown",
   "metadata": {},
   "source": [
    "## Appendix"
   ]
  },
  {
   "cell_type": "code",
   "execution_count": 35,
   "metadata": {},
   "outputs": [],
   "source": [
    "# #Code to organize files\n",
    "# root = \"data/\"\n",
    "# train_files = []\n",
    "# for path, subdirs, files in os.walk(root):\n",
    "#     for name in files:\n",
    "#         train_files.append(os.path.join(path, name)) \n",
    "        \n",
    "# train_files = list(filter(lambda x: re.findall(r'\\/([\\w]*)\\.jpg$', x) != [], train_files))\n",
    "# x = dict(map(lambda x: (re.findall(r'\\/([\\w]*)\\.jpg$', x)[0], x), train_files))\n",
    "# filename_df = pd.DataFrame.from_dict(x, orient='index', columns=['filepath'])\n",
    "# df_w_filepath = pd.merge(df, filename_df, left_on='SOPInstanceUID', right_index=True, how='left')\n",
    "\n",
    "# train_img_no_pe = df_w_filepath.query('pe_present_on_image == 0')['filepath']\n",
    "# train_img_pe_present = df_w_filepath.query('pe_present_on_image == 1')['filepath']\n",
    "\n",
    "# task1 = train_img_no_pe.shape[0]\n",
    "# task2 = train_img_pe_present.shape[0]\n",
    "# for index, each in enumerate(train_img_no_pe):\n",
    "#     new_path = each[-16:]\n",
    "#     clear_output(wait = True)\n",
    "#     !mv $each no_pe/$new_path\n",
    "#     if index == 36000:\n",
    "#         break\n",
    "#     display(index/task1 * 100)\n",
    "# for index, each in enumerate(train_img_pe_present):\n",
    "#     new_path = each[-16:]\n",
    "#     clear_output(wait = True)\n",
    "#     !mv $each pe_present/$new_path\n",
    "#     display(index/task2 * 100)\n",
    "#     if index == 36000:\n",
    "#         break"
   ]
  }
 ],
 "metadata": {
  "kernelspec": {
   "display_name": "Python 3",
   "language": "python",
   "name": "python3"
  },
  "language_info": {
   "codemirror_mode": {
    "name": "ipython",
    "version": 3
   },
   "file_extension": ".py",
   "mimetype": "text/x-python",
   "name": "python",
   "nbconvert_exporter": "python",
   "pygments_lexer": "ipython3",
   "version": "3.8.3"
  }
 },
 "nbformat": 4,
 "nbformat_minor": 2
}
