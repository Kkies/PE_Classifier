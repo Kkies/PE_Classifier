{
 "cells": [
  {
   "cell_type": "markdown",
   "metadata": {},
   "source": [
    "# RSNA STR Pulmonary Embolism Detection"
   ]
  },
  {
   "cell_type": "code",
   "execution_count": null,
   "metadata": {},
   "outputs": [],
   "source": [
    "import pandas as pd\n",
    "import numpy as np\n",
    "import tensorflow as tf\n",
    "from tensorflow import keras\n",
    "from tensorflow.keras import layers\n",
    "import matplotlib.pyplot as plt\n",
    "%matplotlib inline\n",
    "from keras.preprocessing.image import ImageDataGenerator, array_to_img, img_to_array, load_img"
   ]
  },
  {
   "cell_type": "code",
   "execution_count": 9,
   "metadata": {},
   "outputs": [],
   "source": [
    "# Read in the file\n",
    "df = pd.read_csv('train (1).csv')"
   ]
  },
  {
   "cell_type": "code",
   "execution_count": 10,
   "metadata": {
    "scrolled": false
   },
   "outputs": [
    {
     "name": "stdout",
     "output_type": "stream",
     "text": [
      "(1790594, 17)\n"
     ]
    },
    {
     "data": {
      "text/html": [
       "<div>\n",
       "<style scoped>\n",
       "    .dataframe tbody tr th:only-of-type {\n",
       "        vertical-align: middle;\n",
       "    }\n",
       "\n",
       "    .dataframe tbody tr th {\n",
       "        vertical-align: top;\n",
       "    }\n",
       "\n",
       "    .dataframe thead th {\n",
       "        text-align: right;\n",
       "    }\n",
       "</style>\n",
       "<table border=\"1\" class=\"dataframe\">\n",
       "  <thead>\n",
       "    <tr style=\"text-align: right;\">\n",
       "      <th></th>\n",
       "      <th>StudyInstanceUID</th>\n",
       "      <th>SeriesInstanceUID</th>\n",
       "      <th>SOPInstanceUID</th>\n",
       "      <th>pe_present_on_image</th>\n",
       "      <th>negative_exam_for_pe</th>\n",
       "      <th>qa_motion</th>\n",
       "      <th>qa_contrast</th>\n",
       "      <th>flow_artifact</th>\n",
       "      <th>rv_lv_ratio_gte_1</th>\n",
       "      <th>rv_lv_ratio_lt_1</th>\n",
       "      <th>leftsided_pe</th>\n",
       "      <th>chronic_pe</th>\n",
       "      <th>true_filling_defect_not_pe</th>\n",
       "      <th>rightsided_pe</th>\n",
       "      <th>acute_and_chronic_pe</th>\n",
       "      <th>central_pe</th>\n",
       "      <th>indeterminate</th>\n",
       "    </tr>\n",
       "  </thead>\n",
       "  <tbody>\n",
       "    <tr>\n",
       "      <th>0</th>\n",
       "      <td>6897fa9de148</td>\n",
       "      <td>2bfbb7fd2e8b</td>\n",
       "      <td>c0f3cb036d06</td>\n",
       "      <td>0</td>\n",
       "      <td>0</td>\n",
       "      <td>0</td>\n",
       "      <td>0</td>\n",
       "      <td>0</td>\n",
       "      <td>0</td>\n",
       "      <td>1</td>\n",
       "      <td>1</td>\n",
       "      <td>0</td>\n",
       "      <td>0</td>\n",
       "      <td>1</td>\n",
       "      <td>0</td>\n",
       "      <td>0</td>\n",
       "      <td>0</td>\n",
       "    </tr>\n",
       "    <tr>\n",
       "      <th>1</th>\n",
       "      <td>6897fa9de148</td>\n",
       "      <td>2bfbb7fd2e8b</td>\n",
       "      <td>f57ffd3883b6</td>\n",
       "      <td>0</td>\n",
       "      <td>0</td>\n",
       "      <td>0</td>\n",
       "      <td>0</td>\n",
       "      <td>0</td>\n",
       "      <td>0</td>\n",
       "      <td>1</td>\n",
       "      <td>1</td>\n",
       "      <td>0</td>\n",
       "      <td>0</td>\n",
       "      <td>1</td>\n",
       "      <td>0</td>\n",
       "      <td>0</td>\n",
       "      <td>0</td>\n",
       "    </tr>\n",
       "    <tr>\n",
       "      <th>2</th>\n",
       "      <td>6897fa9de148</td>\n",
       "      <td>2bfbb7fd2e8b</td>\n",
       "      <td>41220fda34a3</td>\n",
       "      <td>0</td>\n",
       "      <td>0</td>\n",
       "      <td>0</td>\n",
       "      <td>0</td>\n",
       "      <td>0</td>\n",
       "      <td>0</td>\n",
       "      <td>1</td>\n",
       "      <td>1</td>\n",
       "      <td>0</td>\n",
       "      <td>0</td>\n",
       "      <td>1</td>\n",
       "      <td>0</td>\n",
       "      <td>0</td>\n",
       "      <td>0</td>\n",
       "    </tr>\n",
       "    <tr>\n",
       "      <th>3</th>\n",
       "      <td>6897fa9de148</td>\n",
       "      <td>2bfbb7fd2e8b</td>\n",
       "      <td>13b685b4b14f</td>\n",
       "      <td>0</td>\n",
       "      <td>0</td>\n",
       "      <td>0</td>\n",
       "      <td>0</td>\n",
       "      <td>0</td>\n",
       "      <td>0</td>\n",
       "      <td>1</td>\n",
       "      <td>1</td>\n",
       "      <td>0</td>\n",
       "      <td>0</td>\n",
       "      <td>1</td>\n",
       "      <td>0</td>\n",
       "      <td>0</td>\n",
       "      <td>0</td>\n",
       "    </tr>\n",
       "    <tr>\n",
       "      <th>4</th>\n",
       "      <td>6897fa9de148</td>\n",
       "      <td>2bfbb7fd2e8b</td>\n",
       "      <td>be0b7524ffb4</td>\n",
       "      <td>0</td>\n",
       "      <td>0</td>\n",
       "      <td>0</td>\n",
       "      <td>0</td>\n",
       "      <td>0</td>\n",
       "      <td>0</td>\n",
       "      <td>1</td>\n",
       "      <td>1</td>\n",
       "      <td>0</td>\n",
       "      <td>0</td>\n",
       "      <td>1</td>\n",
       "      <td>0</td>\n",
       "      <td>0</td>\n",
       "      <td>0</td>\n",
       "    </tr>\n",
       "  </tbody>\n",
       "</table>\n",
       "</div>"
      ],
      "text/plain": [
       "  StudyInstanceUID SeriesInstanceUID SOPInstanceUID  pe_present_on_image  \\\n",
       "0     6897fa9de148      2bfbb7fd2e8b   c0f3cb036d06                    0   \n",
       "1     6897fa9de148      2bfbb7fd2e8b   f57ffd3883b6                    0   \n",
       "2     6897fa9de148      2bfbb7fd2e8b   41220fda34a3                    0   \n",
       "3     6897fa9de148      2bfbb7fd2e8b   13b685b4b14f                    0   \n",
       "4     6897fa9de148      2bfbb7fd2e8b   be0b7524ffb4                    0   \n",
       "\n",
       "   negative_exam_for_pe  qa_motion  qa_contrast  flow_artifact  \\\n",
       "0                     0          0            0              0   \n",
       "1                     0          0            0              0   \n",
       "2                     0          0            0              0   \n",
       "3                     0          0            0              0   \n",
       "4                     0          0            0              0   \n",
       "\n",
       "   rv_lv_ratio_gte_1  rv_lv_ratio_lt_1  leftsided_pe  chronic_pe  \\\n",
       "0                  0                 1             1           0   \n",
       "1                  0                 1             1           0   \n",
       "2                  0                 1             1           0   \n",
       "3                  0                 1             1           0   \n",
       "4                  0                 1             1           0   \n",
       "\n",
       "   true_filling_defect_not_pe  rightsided_pe  acute_and_chronic_pe  \\\n",
       "0                           0              1                     0   \n",
       "1                           0              1                     0   \n",
       "2                           0              1                     0   \n",
       "3                           0              1                     0   \n",
       "4                           0              1                     0   \n",
       "\n",
       "   central_pe  indeterminate  \n",
       "0           0              0  \n",
       "1           0              0  \n",
       "2           0              0  \n",
       "3           0              0  \n",
       "4           0              0  "
      ]
     },
     "execution_count": 10,
     "metadata": {},
     "output_type": "execute_result"
    }
   ],
   "source": [
    "print(df.shape)\n",
    "df.head()"
   ]
  },
  {
   "cell_type": "markdown",
   "metadata": {},
   "source": [
    "Each Study Instance ID and Series Instance ID is unique to one participant. We have 7,279 participants in the dataset with 1.79 million images in total - roughly 233 images per participant."
   ]
  },
  {
   "cell_type": "code",
   "execution_count": 131,
   "metadata": {},
   "outputs": [
    {
     "name": "stdout",
     "output_type": "stream",
     "text": [
      "7279\n",
      "7279\n",
      "1790594\n"
     ]
    }
   ],
   "source": [
    "print(df.StudyInstanceUID.nunique())\n",
    "print(df.SeriesInstanceUID.nunique())\n",
    "print(df.SOPInstanceUID.nunique())"
   ]
  },
  {
   "cell_type": "code",
   "execution_count": 119,
   "metadata": {
    "scrolled": true
   },
   "outputs": [
    {
     "data": {
      "text/plain": [
       "StudyInstanceUID              0\n",
       "SeriesInstanceUID             0\n",
       "SOPInstanceUID                0\n",
       "pe_present_on_image           0\n",
       "negative_exam_for_pe          0\n",
       "qa_motion                     0\n",
       "qa_contrast                   0\n",
       "flow_artifact                 0\n",
       "rv_lv_ratio_gte_1             0\n",
       "rv_lv_ratio_lt_1              0\n",
       "leftsided_pe                  0\n",
       "chronic_pe                    0\n",
       "true_filling_defect_not_pe    0\n",
       "rightsided_pe                 0\n",
       "acute_and_chronic_pe          0\n",
       "central_pe                    0\n",
       "indeterminate                 0\n",
       "dtype: int64"
      ]
     },
     "execution_count": 119,
     "metadata": {},
     "output_type": "execute_result"
    }
   ],
   "source": [
    "df.isna().sum()"
   ]
  },
  {
   "cell_type": "code",
   "execution_count": 11,
   "metadata": {},
   "outputs": [
    {
     "data": {
      "text/plain": [
       "pe_present_on_image           0.053915\n",
       "negative_exam_for_pe          0.676393\n",
       "qa_motion                     0.008251\n",
       "qa_contrast                   0.015797\n",
       "flow_artifact                 0.040159\n",
       "rv_lv_ratio_gte_1             0.128750\n",
       "rv_lv_ratio_lt_1              0.174372\n",
       "leftsided_pe                  0.210899\n",
       "chronic_pe                    0.040140\n",
       "true_filling_defect_not_pe    0.008037\n",
       "rightsided_pe                 0.257565\n",
       "acute_and_chronic_pe          0.019458\n",
       "central_pe                    0.054469\n",
       "indeterminate                 0.020485\n",
       "dtype: float64"
      ]
     },
     "execution_count": 11,
     "metadata": {},
     "output_type": "execute_result"
    }
   ],
   "source": [
    "\n",
    "df.iloc[:, 3:].mean()"
   ]
  },
  {
   "cell_type": "code",
   "execution_count": 123,
   "metadata": {},
   "outputs": [],
   "source": [
    "# Creating a function that takes an x and y value and plots the respective information in a specific format\n",
    "# consistent with our presentation theme.\n",
    "\n",
    "def make_bar(x, y, title, y_label):\n",
    "    fig, ax = plt.subplots(figsize=(10,6))    \n",
    "    color = ['#2a3990','#D23369', '#f06292']\n",
    "    ax.bar(x,y, color = color)\n",
    "    ax.set_title(title)\n",
    "    ax.set_ylabel(y_label)\n",
    "    ax.set_yticks(np.arange(0,1.2,.2))\n",
    "\n",
    "    spine_position = ['top', 'left', 'right']\n",
    "    for spine in spine_position:    \n",
    "        ax.spines[spine].set_color('white')\n",
    "\n",
    "    for a,b in zip(x,y):\n",
    "\n",
    "        label = \"{:.2f}\".format(b)\n",
    "\n",
    "        plt.annotate(label, # this is the text\n",
    "                     (a,b), # this is the point to label\n",
    "                     textcoords=\"offset points\", # how to position the text\n",
    "                     xytext=(0,10), # distance from text to points (x,y)\n",
    "                     ha='center') # horizontal alignment can be left, right or center\n",
    "    plt.show()"
   ]
  },
  {
   "cell_type": "markdown",
   "metadata": {},
   "source": [
    "### Class Balance\n",
    "A large majority (95 percent) of the roughly 1.75 million images in our dataset did not have a PE present on the image. The five percent (96,540) that did belonged to 2,368 individuals."
   ]
  },
  {
   "cell_type": "code",
   "execution_count": 126,
   "metadata": {
    "scrolled": false
   },
   "outputs": [
    {
     "data": {
      "image/png": "[encoded data removed]",
      "text/plain": [
       "<Figure size 720x432 with 1 Axes>"
      ]
     },
     "metadata": {
      "needs_background": "light"
     },
     "output_type": "display_data"
    }
   ],
   "source": [
    "y = df.pe_present_on_image.value_counts()/df.pe_present_on_image.value_counts().sum()\n",
    "feature_names = ['Not Present', 'Present']\n",
    "x = []\n",
    "for i in range(len(feature_names)):\n",
    "    x.append('%s (n=%s)'%(feature_names[i], str(df.pe_present_on_image.value_counts()[i])))\n",
    "\n",
    "make_bar(x,y,\n",
    "        title = 'Class balance - Presence of Pulmonary Embolism on Image',\n",
    "        y_label = 'Percent of Images')\n"
   ]
  },
  {
   "cell_type": "markdown",
   "metadata": {},
   "source": [
    "### PE Presence Among Participants\n",
    "Among the 7,279 participants in our sample, only one third (2,368) tested positive for PE. Those who tested positive for PE had at least one image in their file that presented PE. Those with no images presenting PE tested negative. "
   ]
  },
  {
   "cell_type": "code",
   "execution_count": 125,
   "metadata": {
    "scrolled": false
   },
   "outputs": [
    {
     "data": {
      "image/png": "[encoded data removed]",
      "text/plain": [
       "<Figure size 720x432 with 1 Axes>"
      ]
     },
     "metadata": {
      "needs_background": "light"
     },
     "output_type": "display_data"
    }
   ],
   "source": [
    "neg_val_counts = df.groupby('StudyInstanceUID').negative_exam_for_pe.median().value_counts()\n",
    "n_values = neg_val_counts.reset_index()\n",
    "y = neg_val_counts/df.StudyInstanceUID.nunique()\n",
    "feature_names = ['Tested Negative', 'Tested Positive']\n",
    "x = []\n",
    "for i in range(len(feature_names)):\n",
    "    x.append('%s (n=%s)'%(feature_names[i], str(n_values.negative_exam_for_pe[i])))\n",
    "make_bar(x,y,\n",
    "        title='Pulmonary Embolism Test Results',\n",
    "        y_label='Percent of Sample')"
   ]
  },
  {
   "cell_type": "markdown",
   "metadata": {},
   "source": [
    "### Pulmonary Embolism Locaiton\n",
    "Of images that presented PE (96,540), the right and left ventricles were the most common locations of the PE. Most participants also had multiple PE present in their lungs."
   ]
  },
  {
   "cell_type": "code",
   "execution_count": 127,
   "metadata": {},
   "outputs": [
    {
     "data": {
      "image/png": "[encoded data removed]",
      "text/plain": [
       "<Figure size 720x432 with 1 Axes>"
      ]
     },
     "metadata": {
      "needs_background": "light"
     },
     "output_type": "display_data"
    }
   ],
   "source": [
    "location_df = df[df.pe_present_on_image==1][['leftsided_pe','rightsided_pe','central_pe']]\n",
    "y = location_df.mean()\n",
    "\n",
    "feature_names = ['Left', 'Right', 'Center']\n",
    "x = []\n",
    "for i in range(len(feature_names)):\n",
    "    x.append('%s (n=%s)'%(feature_names[i], str(location_df.sum()[i])))\n",
    "\n",
    "make_bar(x,y,\n",
    "        title='Pulmonary Embolism Location',\n",
    "        y_label='Percent of Images')\n",
    "    \n"
   ]
  },
  {
   "cell_type": "markdown",
   "metadata": {},
   "source": [
    "### RV/LV Ratio Greater Than 1 in Most PE Patients\n",
    "Among participants who tested positive for PE, **54 percent** had an RV/LV ratio greater than one. This would imply that their right ventricle is larger in size than their left ventricle - a phenomenon indicative of higher risk of morbidity."
   ]
  },
  {
   "cell_type": "code",
   "execution_count": 128,
   "metadata": {},
   "outputs": [
    {
     "name": "stderr",
     "output_type": "stream",
     "text": [
      "<ipython-input-128-b3260509ee51>:1: FutureWarning: Indexing with multiple keys (implicitly converted to a tuple of keys) will be deprecated, use a list instead.\n",
      "  rvlv_df = df[df.negative_exam_for_pe==0].groupby('StudyInstanceUID')['rv_lv_ratio_gte_1','rv_lv_ratio_lt_1'].median()\n"
     ]
    },
    {
     "data": {
      "image/png": "[encoded data removed]",
      "text/plain": [
       "<Figure size 720x432 with 1 Axes>"
      ]
     },
     "metadata": {
      "needs_background": "light"
     },
     "output_type": "display_data"
    }
   ],
   "source": [
    "rvlv_df = df[df.negative_exam_for_pe==0].groupby('StudyInstanceUID')['rv_lv_ratio_gte_1','rv_lv_ratio_lt_1'].median()\n",
    "y = rvlv_df.mean()\n",
    "\n",
    "feature_names = ['RV/LV >= 1', 'RV/LV < 1']\n",
    "x = []\n",
    "for i in range(len(feature_names)):\n",
    "    x.append('%s (n=%s)'%(feature_names[i], str(rvlv_df.sum()[i])))\n",
    "\n",
    "make_bar(x,y,\n",
    "        title='RV/LV Ratio',\n",
    "        y_label='Percent of Sample')"
   ]
  }
 ],
 "metadata": {
  "kernelspec": {
   "display_name": "Python 3",
   "language": "python",
   "name": "python3"
  },
  "language_info": {
   "codemirror_mode": {
    "name": "ipython",
    "version": 3
   },
   "file_extension": ".py",
   "mimetype": "text/x-python",
   "name": "python",
   "nbconvert_exporter": "python",
   "pygments_lexer": "ipython3",
   "version": "3.8.3"
  }
 },
 "nbformat": 4,
 "nbformat_minor": 4
}
